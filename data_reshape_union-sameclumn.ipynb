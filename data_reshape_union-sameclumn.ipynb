{
 "cells": [
  {
   "cell_type": "code",
   "execution_count": 125,
   "metadata": {},
   "outputs": [],
   "source": [
    "import pandas as pd\n",
    "import os"
   ]
  },
  {
   "cell_type": "code",
   "execution_count": 126,
   "metadata": {},
   "outputs": [],
   "source": [
    "data = pd.read_excel(r\"D:\\项目\\数据分析\\6-20-6-22上海地址的签收了报单1.xlsx\")"
   ]
  },
  {
   "cell_type": "code",
   "execution_count": 128,
   "metadata": {},
   "outputs": [],
   "source": [
    "#要合并的列-list\n",
    "wulius = [\"物流单号多少1\",\"物流单号多少2\"]\n",
    "i = 0 \n",
    "data_wuliu_1 = data[\"物流单号多少\"]\n",
    "while i< len(wulius):\n",
    "    #拼接列并删掉空行\n",
    "    data_wuliu_1 = data_wuliu_1.append(data[wulius[i]].dropna(axis=0, how='any'))\n",
    "    #去掉原表中已经拼接的列\n",
    "    data = data.drop(wulius[i], axis=1)\n",
    "    i+=1"
   ]
  },
  {
   "cell_type": "code",
   "execution_count": 129,
   "metadata": {},
   "outputs": [],
   "source": [
    "data_new = data.drop([\"物流单号多少\"], axis=1).join(data_wuliu_1.to_frame(),how = 'right')"
   ]
  },
  {
   "cell_type": "code",
   "execution_count": 24,
   "metadata": {},
   "outputs": [],
   "source": [
    "data_wuliu = data[\"物流单号多少1\"].append(data[\"物流单号多少2\"]).reset_index(drop=True)\n",
    "data_new = data.drop([\"物流单号多少1\",\"物流单号多少2\"], axis=1).join(data_wuliu)"
   ]
  },
  {
   "cell_type": "code",
   "execution_count": null,
   "metadata": {},
   "outputs": [],
   "source": [
    "data_new = data.drop([\"物流单号多少1\",\"物流单号多少2\"], axis=1).join(data_wuliu)"
   ]
  },
  {
   "cell_type": "code",
   "execution_count": null,
   "metadata": {},
   "outputs": [],
   "source": []
  }
 ],
 "metadata": {
  "kernelspec": {
   "display_name": "Python 3",
   "language": "python",
   "name": "python3"
  },
  "language_info": {
   "codemirror_mode": {
    "name": "ipython",
    "version": 3
   },
   "file_extension": ".py",
   "mimetype": "text/x-python",
   "name": "python",
   "nbconvert_exporter": "python",
   "pygments_lexer": "ipython3",
   "version": "3.8.5"
  }
 },
 "nbformat": 4,
 "nbformat_minor": 4
}
