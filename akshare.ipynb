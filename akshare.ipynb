{
 "cells": [
  {
   "cell_type": "code",
   "execution_count": 1,
   "metadata": {
    "collapsed": true
   },
   "outputs": [
    {
     "name": "stdout",
     "output_type": "stream",
     "text": [
      "Collecting akshare\n",
      "  Downloading akshare-1.4.52-py3-none-any.whl (747 kB)\n",
      "Requirement already satisfied: matplotlib>=3.1.1 in c:\\users\\lijie\\anaconda3\\lib\\site-packages (from akshare) (3.3.2)\n",
      "Requirement already satisfied: tqdm>=4.43.0 in c:\\users\\lijie\\anaconda3\\lib\\site-packages (from akshare) (4.50.2)\n",
      "Requirement already satisfied: websocket-client>=0.56.0 in c:\\users\\lijie\\anaconda3\\lib\\site-packages (from akshare) (1.2.3)\n",
      "Requirement already satisfied: pillow>=6.2.0 in c:\\users\\lijie\\anaconda3\\lib\\site-packages (from akshare) (8.0.1)\n",
      "Requirement already satisfied: xlrd>=1.2.0 in c:\\users\\lijie\\anaconda3\\lib\\site-packages (from akshare) (1.2.0)\n",
      "Requirement already satisfied: urllib3>=1.25.8 in c:\\users\\lijie\\anaconda3\\lib\\site-packages (from akshare) (1.25.11)\n",
      "Requirement already satisfied: openpyxl>=3.0.3 in c:\\users\\lijie\\anaconda3\\lib\\site-packages (from akshare) (3.0.5)\n",
      "Collecting tabulate>=0.8.6\n",
      "  Downloading tabulate-0.8.9-py3-none-any.whl (25 kB)\n",
      "Requirement already satisfied: beautifulsoup4>=4.9.1 in c:\\users\\lijie\\anaconda3\\lib\\site-packages (from akshare) (4.9.3)\n",
      "Collecting py-mini-racer>=0.6.0\n",
      "  Downloading py_mini_racer-0.6.0-py2.py3-none-win_amd64.whl (4.8 MB)\n",
      "Requirement already satisfied: lxml>=4.2.1 in c:\\users\\lijie\\anaconda3\\lib\\site-packages (from akshare) (4.6.1)\n",
      "Requirement already satisfied: numpy>=1.15.4 in c:\\users\\lijie\\anaconda3\\lib\\site-packages (from akshare) (1.19.2)\n",
      "Collecting pypinyin>=0.35.0\n",
      "  Downloading pypinyin-0.46.0-py2.py3-none-any.whl (1.3 MB)\n",
      "Requirement already satisfied: decorator>=4.4.2 in c:\\users\\lijie\\anaconda3\\lib\\site-packages (from akshare) (4.4.2)\n",
      "Requirement already satisfied: html5lib>=1.0.1 in c:\\users\\lijie\\anaconda3\\lib\\site-packages (from akshare) (1.1)\n",
      "Requirement already satisfied: pandas>=0.25 in c:\\users\\lijie\\anaconda3\\lib\\site-packages (from akshare) (1.1.3)\n",
      "Collecting jsonpath>=0.82\n",
      "  Downloading jsonpath-0.82.tar.gz (9.6 kB)\n",
      "Requirement already satisfied: requests>=2.22.0 in c:\\users\\lijie\\anaconda3\\lib\\site-packages (from akshare) (2.24.0)\n",
      "Requirement already satisfied: pyparsing!=2.0.4,!=2.1.2,!=2.1.6,>=2.0.3 in c:\\users\\lijie\\anaconda3\\lib\\site-packages (from matplotlib>=3.1.1->akshare) (2.4.7)\n",
      "Note: you may need to restart the kernel to use updated packages.\n",
      "Requirement already satisfied: python-dateutil>=2.1 in c:\\users\\lijie\\anaconda3\\lib\\site-packages (from matplotlib>=3.1.1->akshare) (2.8.1)\n",
      "Requirement already satisfied: certifi>=2020.06.20 in c:\\users\\lijie\\anaconda3\\lib\\site-packages (from matplotlib>=3.1.1->akshare) (2020.6.20)\n",
      "Requirement already satisfied: cycler>=0.10 in c:\\users\\lijie\\anaconda3\\lib\\site-packages (from matplotlib>=3.1.1->akshare) (0.10.0)\n",
      "Requirement already satisfied: kiwisolver>=1.0.1 in c:\\users\\lijie\\anaconda3\\lib\\site-packages (from matplotlib>=3.1.1->akshare) (1.3.0)\n",
      "Requirement already satisfied: jdcal in c:\\users\\lijie\\anaconda3\\lib\\site-packages (from openpyxl>=3.0.3->akshare) (1.4.1)\n",
      "Requirement already satisfied: et-xmlfile in c:\\users\\lijie\\anaconda3\\lib\\site-packages (from openpyxl>=3.0.3->akshare) (1.0.1)\n",
      "Requirement already satisfied: soupsieve>1.2; python_version >= \"3.0\" in c:\\users\\lijie\\anaconda3\\lib\\site-packages (from beautifulsoup4>=4.9.1->akshare) (2.0.1)\n",
      "Requirement already satisfied: webencodings in c:\\users\\lijie\\anaconda3\\lib\\site-packages (from html5lib>=1.0.1->akshare) (0.5.1)\n",
      "Requirement already satisfied: six>=1.9 in c:\\users\\lijie\\anaconda3\\lib\\site-packages (from html5lib>=1.0.1->akshare) (1.15.0)\n",
      "Requirement already satisfied: pytz>=2017.2 in c:\\users\\lijie\\anaconda3\\lib\\site-packages (from pandas>=0.25->akshare) (2020.1)\n",
      "Requirement already satisfied: idna<3,>=2.5 in c:\\users\\lijie\\anaconda3\\lib\\site-packages (from requests>=2.22.0->akshare) (2.10)\n",
      "Requirement already satisfied: chardet<4,>=3.0.2 in c:\\users\\lijie\\anaconda3\\lib\\site-packages (from requests>=2.22.0->akshare) (3.0.4)\n",
      "Building wheels for collected packages: jsonpath\n",
      "  Building wheel for jsonpath (setup.py): started\n",
      "  Building wheel for jsonpath (setup.py): finished with status 'done'\n",
      "  Created wheel for jsonpath: filename=jsonpath-0.82-py3-none-any.whl size=5617 sha256=58f63abfc029fa9fbbe0e58608bff702a66e895e7d101791ce8a3d45b4c3bace\n",
      "  Stored in directory: c:\\users\\lijie\\appdata\\local\\pip\\cache\\wheels\\7e\\83\\91\\92d0d11261cc021516b867b5b2fe66591aa7a1dd9561c66395\n",
      "Successfully built jsonpath\n",
      "Installing collected packages: tabulate, py-mini-racer, pypinyin, jsonpath, akshare\n",
      "Successfully installed akshare-1.4.52 jsonpath-0.82 py-mini-racer-0.6.0 pypinyin-0.46.0 tabulate-0.8.9\n"
     ]
    }
   ],
   "source": [
    "import akshare as ak"
   ]
  },
  {
   "cell_type": "code",
   "execution_count": 19,
   "metadata": {},
   "outputs": [],
   "source": [
    "import socket\n",
    "import time\n",
    "timeout = 20\n",
    "socket.setdefaulttimeout(timeout)\n",
    "sleep_download_time = 20\n",
    "time.sleep(sleep_download_time)#这里时间自己设定"
   ]
  },
  {
   "cell_type": "code",
   "execution_count": 22,
   "metadata": {
    "collapsed": true
   },
   "outputs": [
    {
     "name": "stderr",
     "output_type": "stream",
     "text": [
      "                                                                                                                       \r"
     ]
    },
    {
     "name": "stdout",
     "output_type": "stream",
     "text": [
      "          序号                                股东名称  股东类型    股票代码  股票简称  \\\n",
      "0          1                                 张忠恕    个人  835179  凯德石英   \n",
      "1          2                                 王毓敏    个人  835179  凯德石英   \n",
      "2          3                   北京德益诚投资发展中心(有限合伙)  投资公司  835179  凯德石英   \n",
      "3          4                       江苏太平洋石英股份有限公司    其它  835179  凯德石英   \n",
      "4          5  新余川流投资管理有限公司-分宜川流长枫新材料投资合伙企业(有限合伙)  投资公司  835179  凯德石英   \n",
      "...      ...                                 ...   ...     ...   ...   \n",
      "55207  55208                   深圳市德益共赢投资企业(有限合伙)  投资公司  873602  德益激光   \n",
      "55208  55209                                 王小峰    个人  873602  德益激光   \n",
      "55209  55210                                 卢达华    个人  873602  德益激光   \n",
      "55210  55211                       东莞市通辉模具股份有限公司    其它  873602  德益激光   \n",
      "55211  55212                                  赵禹    个人  873602  德益激光   \n",
      "\n",
      "                       报告期   期末持股-数量  期末持股-数量变化  期末持股-数量变化比例 期末持股-持股变动  \\\n",
      "0      2021-09-30 00:00:00  14370000        0.0          0.0        不变   \n",
      "1      2021-09-30 00:00:00   7946000        0.0          0.0        不变   \n",
      "2      2021-09-30 00:00:00   6840000        0.0          0.0        不变   \n",
      "3      2021-09-30 00:00:00   5960000        0.0          0.0        不变   \n",
      "4      2021-09-30 00:00:00   3598000        0.0          0.0        不变   \n",
      "...                    ...       ...        ...          ...       ...   \n",
      "55207  2021-09-30 00:00:00    546000        NaN          NaN        新进   \n",
      "55208  2021-09-30 00:00:00    312000        NaN          NaN        新进   \n",
      "55209  2021-09-30 00:00:00    260013        NaN          NaN        新进   \n",
      "55210  2021-09-30 00:00:00    260000        NaN          NaN        新进   \n",
      "55211  2021-09-30 00:00:00     77857        NaN          NaN        新进   \n",
      "\n",
      "       期末持股-流通市值         公告日  公告日后涨跌幅-10个交易日  公告日后涨跌幅-30个交易日  公告日后涨跌幅-60个交易日  \n",
      "0            NaN  2022-02-16             0.0             0.0             0.0  \n",
      "1            NaN  2022-02-16             0.0             0.0             0.0  \n",
      "2            NaN  2022-02-16             0.0             0.0             0.0  \n",
      "3            NaN  2022-02-16             0.0             0.0             0.0  \n",
      "4            NaN  2022-02-16             0.0             0.0             0.0  \n",
      "...          ...         ...             ...             ...             ...  \n",
      "55207        NaN  2021-07-13             NaN             NaN             NaN  \n",
      "55208        NaN  2021-07-13             NaN             NaN             NaN  \n",
      "55209        NaN  2021-07-13             NaN             NaN             NaN  \n",
      "55210        NaN  2021-07-13             NaN             NaN             NaN  \n",
      "55211        NaN  2021-07-13             NaN             NaN             NaN  \n",
      "\n",
      "[55212 rows x 15 columns]\n"
     ]
    }
   ],
   "source": [
    "stock_gdfx_holding_analyse_em_df = ak.stock_gdfx_holding_analyse_em(date=\"20210930\")#某一期公布的股东\n",
    "print(stock_gdfx_holding_analyse_em_df)"
   ]
  },
  {
   "cell_type": "code",
   "execution_count": 23,
   "metadata": {},
   "outputs": [],
   "source": [
    "stock_gdfx_holding_analyse_em_df.to_excel(r'D:\\项目\\北京\\数据爬取\\合全.xlsx',index = False,index_label = None )"
   ]
  },
  {
   "cell_type": "code",
   "execution_count": 21,
   "metadata": {
    "scrolled": true
   },
   "outputs": [
    {
     "ename": "TypeError",
     "evalue": "stock_gdfx_holding_teamwork_em() got an unexpected keyword argument 'date'",
     "output_type": "error",
     "traceback": [
      "\u001b[1;31m---------------------------------------------------------------------------\u001b[0m",
      "\u001b[1;31mTypeError\u001b[0m                                 Traceback (most recent call last)",
      "\u001b[1;32m<ipython-input-21-e9ce718acddc>\u001b[0m in \u001b[0;36m<module>\u001b[1;34m\u001b[0m\n\u001b[0;32m      1\u001b[0m \u001b[1;32mimport\u001b[0m \u001b[0makshare\u001b[0m \u001b[1;32mas\u001b[0m \u001b[0mak\u001b[0m\u001b[1;33m\u001b[0m\u001b[1;33m\u001b[0m\u001b[0m\n\u001b[0;32m      2\u001b[0m \u001b[1;33m\u001b[0m\u001b[0m\n\u001b[1;32m----> 3\u001b[1;33m \u001b[0mstock_gdfx_holding_teamwork_em_df\u001b[0m \u001b[1;33m=\u001b[0m \u001b[0mak\u001b[0m\u001b[1;33m.\u001b[0m\u001b[0mstock_gdfx_holding_teamwork_em\u001b[0m\u001b[1;33m(\u001b[0m\u001b[0mdate\u001b[0m\u001b[1;33m=\u001b[0m\u001b[1;34m\"20210930\"\u001b[0m\u001b[1;33m)\u001b[0m\u001b[1;33m\u001b[0m\u001b[1;33m\u001b[0m\u001b[0m\n\u001b[0m\u001b[0;32m      4\u001b[0m \u001b[0mprint\u001b[0m\u001b[1;33m(\u001b[0m\u001b[0mstock_gdfx_holding_teamwork_em_df\u001b[0m\u001b[1;33m)\u001b[0m\u001b[1;33m\u001b[0m\u001b[1;33m\u001b[0m\u001b[0m\n",
      "\u001b[1;31mTypeError\u001b[0m: stock_gdfx_holding_teamwork_em() got an unexpected keyword argument 'date'"
     ]
    }
   ],
   "source": [
    "stock_gdfx_holding_teamwork_em_df = ak.stock_gdfx_holding_teamwork_em()#爬虫超时，断开了连接\n",
    "print(stock_gdfx_holding_teamwork_em_df)"
   ]
  },
  {
   "cell_type": "code",
   "execution_count": null,
   "metadata": {},
   "outputs": [],
   "source": []
  }
 ],
 "metadata": {
  "kernelspec": {
   "display_name": "Python 3",
   "language": "python",
   "name": "python3"
  },
  "language_info": {
   "codemirror_mode": {
    "name": "ipython",
    "version": 3
   },
   "file_extension": ".py",
   "mimetype": "text/x-python",
   "name": "python",
   "nbconvert_exporter": "python",
   "pygments_lexer": "ipython3",
   "version": "3.8.5"
  }
 },
 "nbformat": 4,
 "nbformat_minor": 4
}
