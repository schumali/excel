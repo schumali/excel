{
 "cells": [
  {
   "cell_type": "code",
   "execution_count": 1,
   "metadata": {},
   "outputs": [],
   "source": [
    "import matplotlib.pyplot as plt\n",
    "import mplfinance as mpf\n",
    "import numpy as np\n",
    "import pandas as pd"
   ]
  },
  {
   "cell_type": "code",
   "execution_count": 2,
   "metadata": {},
   "outputs": [],
   "source": [
    "#欧式距离算法(标准化)---不同时序长\n",
    "def Oushidistance(s1,s2):\n",
    "    m=len(s1)\n",
    "    n=len(s2)\n",
    "#     plt.plot(s1, \"r\", s2, \"g\")\n",
    "#     plt.show()\n",
    "    s1 = (s1 - np.mean(s1)) / np.std(s1)#标准化\n",
    "    s2 = (s2 - np.mean(s2)) / np.std(s2)#标准化\n",
    "    distance=0\n",
    "    for i in range(m):\n",
    "        for j in range(n):      #计算错误，一对多了，只用一个循环就够\n",
    "            distance +=(s1[i]-s2[j])**2  \n",
    "            return np.sqrt(distance)"
   ]
  },
  {
   "cell_type": "code",
   "execution_count": 3,
   "metadata": {},
   "outputs": [],
   "source": [
    "# 1.数据读取与选取、分组\n",
    "df_ma = pd.DataFrame()\n",
    "data = pd.read_excel(r'D:\\项目\\北京\\二级股东\\测试数据.xlsx')\n",
    "data_2c =data[['股东名称','持股数量(股)','日期']]\n",
    "a = data_2c.groupby(['股东名称'])"
   ]
  },
  {
   "cell_type": "code",
   "execution_count": 4,
   "metadata": {},
   "outputs": [
    {
     "name": "stderr",
     "output_type": "stream",
     "text": [
      "<ipython-input-2-1d617fe1f214>:8: RuntimeWarning: invalid value encountered in true_divide\n",
      "  s2 = (s2 - np.mean(s2)) / np.std(s2)#标准化\n",
      "<ipython-input-2-1d617fe1f214>:7: RuntimeWarning: invalid value encountered in true_divide\n",
      "  s1 = (s1 - np.mean(s1)) / np.std(s1)#标准化\n"
     ]
    }
   ],
   "source": [
    "##对表格数据进行预处理（分组）\n",
    "#创建空矩阵\n",
    "distances = np.zeros((len(a), len(a)))\n",
    "i=0\n",
    "group1_list = []\n",
    "clm = []\n",
    "for name1, group1 in a:\n",
    "    j=0\n",
    "#     print (name1)\n",
    "    clm.append(name1)\n",
    "#     clm =clm.append(group1['股东名称'].values)\n",
    "    group2_list = []\n",
    "    group1_list = group1['持股数量(股)'].values.tolist()\n",
    "# 二元矩阵赋值相识度结果\n",
    "    for name2, group2 in a:\n",
    "        group2_list=group2['持股数量(股)'].values.tolist()\n",
    "        b1= np.array(group1_list)\n",
    "        b2= np.array(group2_list)\n",
    "        #保留3位小数，结果返回矩阵\n",
    "        distances[i,j]  = 1-round(Oushidistance(b1,b2), 3)\n",
    "        if j<len(a)-1:#11\n",
    "            j+=1\n",
    "    if i<len(a)-1:#11\n",
    "        i+=1\n"
   ]
  },
  {
   "cell_type": "code",
   "execution_count": 5,
   "metadata": {},
   "outputs": [],
   "source": [
    "#矩阵转为df\n",
    "res =pd.DataFrame(distances)\n",
    "res.columns = clm\n",
    "res.index = clm"
   ]
  },
  {
   "cell_type": "code",
   "execution_count": 7,
   "metadata": {},
   "outputs": [],
   "source": [
    "#相似度深浅颜色可视化\n",
    "def distance_cost_plot(distances):\n",
    "    plt.imshow(distances, interpolation='nearest', cmap='Reds') \n",
    "#     plt.gca().invert_yaxis()#倒转y轴，让它与x轴的都从左下角开始\n",
    "    plt.xlabel(\"X\")\n",
    "    plt.ylabel(\"Y\")\n",
    "#    plt.grid()\n",
    "    plt.colorbar()\n",
    "distance_cost_plot(distances)"
   ]
  },
  {
   "cell_type": "code",
   "execution_count": null,
   "metadata": {},
   "outputs": [],
   "source": []
  }
 ],
 "metadata": {
  "kernelspec": {
   "display_name": "Python 3",
   "language": "python",
   "name": "python3"
  },
  "language_info": {
   "codemirror_mode": {
    "name": "ipython",
    "version": 3
   },
   "file_extension": ".py",
   "mimetype": "text/x-python",
   "name": "python",
   "nbconvert_exporter": "python",
   "pygments_lexer": "ipython3",
   "version": "3.8.5"
  }
 },
 "nbformat": 4,
 "nbformat_minor": 4
}
